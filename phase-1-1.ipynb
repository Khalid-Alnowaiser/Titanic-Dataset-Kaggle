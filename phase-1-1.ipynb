{
 "cells": [
  {
   "cell_type": "code",
   "execution_count": 1,
   "id": "25292a06",
   "metadata": {
    "_cell_guid": "b1076dfc-b9ad-4769-8c92-a6c4dae69d19",
    "_uuid": "8f2839f25d086af736a60e9eeb907d3b93b6e0e5",
    "execution": {
     "iopub.execute_input": "2024-04-21T10:17:16.966524Z",
     "iopub.status.busy": "2024-04-21T10:17:16.966139Z",
     "iopub.status.idle": "2024-04-21T10:17:17.988862Z",
     "shell.execute_reply": "2024-04-21T10:17:17.987517Z"
    },
    "papermill": {
     "duration": 1.032701,
     "end_time": "2024-04-21T10:17:17.991802",
     "exception": false,
     "start_time": "2024-04-21T10:17:16.959101",
     "status": "completed"
    },
    "tags": []
   },
   "outputs": [
    {
     "name": "stdout",
     "output_type": "stream",
     "text": [
      "/kaggle/input/titanic/train.csv\n",
      "/kaggle/input/titanic/test.csv\n",
      "/kaggle/input/titanic/gender_submission.csv\n"
     ]
    }
   ],
   "source": [
    "# This Python 3 environment comes with many helpful analytics libraries installed\n",
    "# It is defined by the kaggle/python Docker image: https://github.com/kaggle/docker-python\n",
    "# For example, here's several helpful packages to load\n",
    "\n",
    "import numpy as np # linear algebra\n",
    "import pandas as pd # data processing, CSV file I/O (e.g. pd.read_csv)\n",
    "\n",
    "# Input data files are available in the read-only \"../input/\" directory\n",
    "# For example, running this (by clicking run or pressing Shift+Enter) will list all files under the input directory\n",
    "\n",
    "import os\n",
    "for dirname, _, filenames in os.walk('/kaggle/input'):\n",
    "    for filename in filenames:\n",
    "        print(os.path.join(dirname, filename))\n",
    "\n",
    "# You can write up to 20GB to the current directory (/kaggle/working/) that gets preserved as output when you create a version using \"Save & Run All\" \n",
    "# You can also write temporary files to /kaggle/temp/, but they won't be saved outside of the current session"
   ]
  },
  {
   "cell_type": "code",
   "execution_count": 2,
   "id": "a2fb3306",
   "metadata": {
    "execution": {
     "iopub.execute_input": "2024-04-21T10:17:18.002968Z",
     "iopub.status.busy": "2024-04-21T10:17:18.002396Z",
     "iopub.status.idle": "2024-04-21T10:17:18.065266Z",
     "shell.execute_reply": "2024-04-21T10:17:18.063694Z"
    },
    "papermill": {
     "duration": 0.070942,
     "end_time": "2024-04-21T10:17:18.067778",
     "exception": false,
     "start_time": "2024-04-21T10:17:17.996836",
     "status": "completed"
    },
    "tags": []
   },
   "outputs": [
    {
     "name": "stdout",
     "output_type": "stream",
     "text": [
      "<class 'pandas.core.frame.DataFrame'>\n",
      "RangeIndex: 891 entries, 0 to 890\n",
      "Data columns (total 12 columns):\n",
      " #   Column       Non-Null Count  Dtype  \n",
      "---  ------       --------------  -----  \n",
      " 0   PassengerId  891 non-null    int64  \n",
      " 1   Survived     891 non-null    int64  \n",
      " 2   Pclass       891 non-null    int64  \n",
      " 3   Name         891 non-null    object \n",
      " 4   Sex          891 non-null    object \n",
      " 5   Age          714 non-null    float64\n",
      " 6   SibSp        891 non-null    int64  \n",
      " 7   Parch        891 non-null    int64  \n",
      " 8   Ticket       891 non-null    object \n",
      " 9   Fare         891 non-null    float64\n",
      " 10  Cabin        204 non-null    object \n",
      " 11  Embarked     889 non-null    object \n",
      "dtypes: float64(2), int64(5), object(5)\n",
      "memory usage: 83.7+ KB\n"
     ]
    }
   ],
   "source": [
    "#Loading Training Data\n",
    "train_data = pd.read_csv(\"/kaggle/input/titanic/train.csv\")\n",
    "train_data.info()"
   ]
  },
  {
   "cell_type": "code",
   "execution_count": 3,
   "id": "efd337c3",
   "metadata": {
    "execution": {
     "iopub.execute_input": "2024-04-21T10:17:18.078552Z",
     "iopub.status.busy": "2024-04-21T10:17:18.078115Z",
     "iopub.status.idle": "2024-04-21T10:17:18.098877Z",
     "shell.execute_reply": "2024-04-21T10:17:18.097113Z"
    },
    "papermill": {
     "duration": 0.029581,
     "end_time": "2024-04-21T10:17:18.101853",
     "exception": false,
     "start_time": "2024-04-21T10:17:18.072272",
     "status": "completed"
    },
    "tags": []
   },
   "outputs": [
    {
     "name": "stdout",
     "output_type": "stream",
     "text": [
      "<class 'pandas.core.frame.DataFrame'>\n",
      "RangeIndex: 418 entries, 0 to 417\n",
      "Data columns (total 11 columns):\n",
      " #   Column       Non-Null Count  Dtype  \n",
      "---  ------       --------------  -----  \n",
      " 0   PassengerId  418 non-null    int64  \n",
      " 1   Pclass       418 non-null    int64  \n",
      " 2   Name         418 non-null    object \n",
      " 3   Sex          418 non-null    object \n",
      " 4   Age          332 non-null    float64\n",
      " 5   SibSp        418 non-null    int64  \n",
      " 6   Parch        418 non-null    int64  \n",
      " 7   Ticket       418 non-null    object \n",
      " 8   Fare         417 non-null    float64\n",
      " 9   Cabin        91 non-null     object \n",
      " 10  Embarked     418 non-null    object \n",
      "dtypes: float64(2), int64(4), object(5)\n",
      "memory usage: 36.0+ KB\n"
     ]
    }
   ],
   "source": [
    "#Loading Test Data\n",
    "test_data = pd.read_csv(\"/kaggle/input/titanic/test.csv\")\n",
    "test_data.info()"
   ]
  },
  {
   "cell_type": "markdown",
   "id": "b8d7ad04",
   "metadata": {
    "papermill": {
     "duration": 0.004455,
     "end_time": "2024-04-21T10:17:18.111060",
     "exception": false,
     "start_time": "2024-04-21T10:17:18.106605",
     "status": "completed"
    },
    "tags": []
   },
   "source": [
    "* Computing Basic Statistics For Numerical Data (Mean, Median, Standard Deviation, Minimum, Maximum, and Quartiles)\n",
    "* Frequency Distribution of each category for catagorical data"
   ]
  },
  {
   "cell_type": "code",
   "execution_count": 4,
   "id": "d2ae4657",
   "metadata": {
    "execution": {
     "iopub.execute_input": "2024-04-21T10:17:18.122165Z",
     "iopub.status.busy": "2024-04-21T10:17:18.121746Z",
     "iopub.status.idle": "2024-04-21T10:17:18.152360Z",
     "shell.execute_reply": "2024-04-21T10:17:18.151148Z"
    },
    "papermill": {
     "duration": 0.039176,
     "end_time": "2024-04-21T10:17:18.155029",
     "exception": false,
     "start_time": "2024-04-21T10:17:18.115853",
     "status": "completed"
    },
    "tags": []
   },
   "outputs": [
    {
     "name": "stdout",
     "output_type": "stream",
     "text": [
      "       PassengerId    Survived      Pclass         Age       SibSp  \\\n",
      "count   891.000000  891.000000  891.000000  714.000000  891.000000   \n",
      "mean    446.000000    0.383838    2.308642   29.699118    0.523008   \n",
      "std     257.353842    0.486592    0.836071   14.526497    1.102743   \n",
      "min       1.000000    0.000000    1.000000    0.420000    0.000000   \n",
      "25%     223.500000    0.000000    2.000000   20.125000    0.000000   \n",
      "50%     446.000000    0.000000    3.000000   28.000000    0.000000   \n",
      "75%     668.500000    1.000000    3.000000   38.000000    1.000000   \n",
      "max     891.000000    1.000000    3.000000   80.000000    8.000000   \n",
      "\n",
      "            Parch        Fare  \n",
      "count  891.000000  891.000000  \n",
      "mean     0.381594   32.204208  \n",
      "std      0.806057   49.693429  \n",
      "min      0.000000    0.000000  \n",
      "25%      0.000000    7.910400  \n",
      "50%      0.000000   14.454200  \n",
      "75%      0.000000   31.000000  \n",
      "max      6.000000  512.329200  \n"
     ]
    }
   ],
   "source": [
    "#Numerical Data\n",
    "stats = train_data.describe()\n",
    "print(stats)"
   ]
  },
  {
   "cell_type": "code",
   "execution_count": 5,
   "id": "6552e356",
   "metadata": {
    "execution": {
     "iopub.execute_input": "2024-04-21T10:17:18.166890Z",
     "iopub.status.busy": "2024-04-21T10:17:18.166474Z",
     "iopub.status.idle": "2024-04-21T10:17:18.176020Z",
     "shell.execute_reply": "2024-04-21T10:17:18.174325Z"
    },
    "papermill": {
     "duration": 0.018779,
     "end_time": "2024-04-21T10:17:18.178547",
     "exception": false,
     "start_time": "2024-04-21T10:17:18.159768",
     "status": "completed"
    },
    "tags": []
   },
   "outputs": [
    {
     "name": "stdout",
     "output_type": "stream",
     "text": [
      "Sex\n",
      "male      577\n",
      "female    314\n",
      "Name: count, dtype: int64\n",
      "Embarked\n",
      "S    644\n",
      "C    168\n",
      "Q     77\n",
      "Name: count, dtype: int64\n"
     ]
    }
   ],
   "source": [
    "#Catagorical Data, We didn't include Name and Cabin as they're of little to no use to us in the data summarization phase.\n",
    "\n",
    "print(train_data['Sex'].value_counts())\n",
    "print(train_data['Embarked'].value_counts())"
   ]
  },
  {
   "cell_type": "markdown",
   "id": "d895d982",
   "metadata": {
    "papermill": {
     "duration": 0.004608,
     "end_time": "2024-04-21T10:17:18.188040",
     "exception": false,
     "start_time": "2024-04-21T10:17:18.183432",
     "status": "completed"
    },
    "tags": []
   },
   "source": [
    "Task 2: Analyze the percentage of missing values in each feature and decide on an appropriate strategy for imputation"
   ]
  },
  {
   "cell_type": "code",
   "execution_count": 6,
   "id": "7dbabe70",
   "metadata": {
    "execution": {
     "iopub.execute_input": "2024-04-21T10:17:18.199670Z",
     "iopub.status.busy": "2024-04-21T10:17:18.199264Z",
     "iopub.status.idle": "2024-04-21T10:17:18.207555Z",
     "shell.execute_reply": "2024-04-21T10:17:18.206295Z"
    },
    "papermill": {
     "duration": 0.017445,
     "end_time": "2024-04-21T10:17:18.210317",
     "exception": false,
     "start_time": "2024-04-21T10:17:18.192872",
     "status": "completed"
    },
    "tags": []
   },
   "outputs": [
    {
     "name": "stdout",
     "output_type": "stream",
     "text": [
      "PassengerId      0\n",
      "Survived         0\n",
      "Pclass           0\n",
      "Name             0\n",
      "Sex              0\n",
      "Age            177\n",
      "SibSp            0\n",
      "Parch            0\n",
      "Ticket           0\n",
      "Fare             0\n",
      "Cabin          687\n",
      "Embarked         2\n",
      "dtype: int64\n"
     ]
    }
   ],
   "source": [
    "#First we check for missing values in each column\n",
    "print(train_data.isnull().sum())"
   ]
  },
  {
   "cell_type": "code",
   "execution_count": 7,
   "id": "1129403c",
   "metadata": {
    "execution": {
     "iopub.execute_input": "2024-04-21T10:17:18.222259Z",
     "iopub.status.busy": "2024-04-21T10:17:18.221874Z",
     "iopub.status.idle": "2024-04-21T10:17:18.236783Z",
     "shell.execute_reply": "2024-04-21T10:17:18.235585Z"
    },
    "papermill": {
     "duration": 0.024042,
     "end_time": "2024-04-21T10:17:18.239362",
     "exception": false,
     "start_time": "2024-04-21T10:17:18.215320",
     "status": "completed"
    },
    "tags": []
   },
   "outputs": [],
   "source": [
    "#We drop the rows where embarked is null since they're only 2 rows out of 891.\n",
    "train_data.dropna(subset=['Embarked'], inplace= True)\n",
    "#We drop the Cabin column, 687/791 missing values.\n",
    "train_data.drop(columns =['Cabin'], inplace = True)\n",
    "#We use the Median because we have outliers \n",
    "train_data['Age'] = train_data['Age'].fillna(train_data['Age'].median())\n"
   ]
  },
  {
   "cell_type": "code",
   "execution_count": 8,
   "id": "d280ec20",
   "metadata": {
    "execution": {
     "iopub.execute_input": "2024-04-21T10:17:18.251345Z",
     "iopub.status.busy": "2024-04-21T10:17:18.250952Z",
     "iopub.status.idle": "2024-04-21T10:17:18.258925Z",
     "shell.execute_reply": "2024-04-21T10:17:18.257661Z"
    },
    "papermill": {
     "duration": 0.017159,
     "end_time": "2024-04-21T10:17:18.261505",
     "exception": false,
     "start_time": "2024-04-21T10:17:18.244346",
     "status": "completed"
    },
    "tags": []
   },
   "outputs": [
    {
     "name": "stdout",
     "output_type": "stream",
     "text": [
      "PassengerId    0\n",
      "Survived       0\n",
      "Pclass         0\n",
      "Name           0\n",
      "Sex            0\n",
      "Age            0\n",
      "SibSp          0\n",
      "Parch          0\n",
      "Ticket         0\n",
      "Fare           0\n",
      "Embarked       0\n",
      "dtype: int64\n"
     ]
    }
   ],
   "source": [
    "#Check after imputing missing values\n",
    "print(train_data.isnull().sum())"
   ]
  }
 ],
 "metadata": {
  "kaggle": {
   "accelerator": "none",
   "dataSources": [
    {
     "databundleVersionId": 26502,
     "sourceId": 3136,
     "sourceType": "competition"
    }
   ],
   "dockerImageVersionId": 30702,
   "isGpuEnabled": false,
   "isInternetEnabled": false,
   "language": "python",
   "sourceType": "notebook"
  },
  "kernelspec": {
   "display_name": "Python 3",
   "language": "python",
   "name": "python3"
  },
  "language_info": {
   "codemirror_mode": {
    "name": "ipython",
    "version": 3
   },
   "file_extension": ".py",
   "mimetype": "text/x-python",
   "name": "python",
   "nbconvert_exporter": "python",
   "pygments_lexer": "ipython3",
   "version": "3.10.13"
  },
  "papermill": {
   "default_parameters": {},
   "duration": 5.001519,
   "end_time": "2024-04-21T10:17:18.788186",
   "environment_variables": {},
   "exception": null,
   "input_path": "__notebook__.ipynb",
   "output_path": "__notebook__.ipynb",
   "parameters": {},
   "start_time": "2024-04-21T10:17:13.786667",
   "version": "2.5.0"
  }
 },
 "nbformat": 4,
 "nbformat_minor": 5
}

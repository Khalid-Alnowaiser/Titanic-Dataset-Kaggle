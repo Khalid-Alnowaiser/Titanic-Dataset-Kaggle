{
 "cells": [
  {
   "cell_type": "code",
   "execution_count": 1,
   "id": "f7a0722f",
   "metadata": {
    "_cell_guid": "b1076dfc-b9ad-4769-8c92-a6c4dae69d19",
    "_uuid": "8f2839f25d086af736a60e9eeb907d3b93b6e0e5",
    "execution": {
     "iopub.execute_input": "2024-05-15T19:49:23.512807Z",
     "iopub.status.busy": "2024-05-15T19:49:23.512126Z",
     "iopub.status.idle": "2024-05-15T19:49:26.164759Z",
     "shell.execute_reply": "2024-05-15T19:49:26.163593Z"
    },
    "papermill": {
     "duration": 2.665951,
     "end_time": "2024-05-15T19:49:26.167088",
     "exception": false,
     "start_time": "2024-05-15T19:49:23.501137",
     "status": "completed"
    },
    "tags": []
   },
   "outputs": [
    {
     "name": "stdout",
     "output_type": "stream",
     "text": [
      "/kaggle/input/titanic/train.csv\n",
      "/kaggle/input/titanic/test.csv\n",
      "/kaggle/input/titanic/gender_submission.csv\n"
     ]
    }
   ],
   "source": [
    "# This Python 3 environment comes with many helpful analytics libraries installed\n",
    "# It is defined by the kaggle/python Docker image: https://github.com/kaggle/docker-python\n",
    "# For example, here's several helpful packages to load\n",
    "\n",
    "import numpy as np # linear algebra\n",
    "import pandas as pd # data processing, CSV file I/O (e.g. pd.read_csv)\n",
    "import matplotlib.pyplot as plt\n",
    "from sklearn.preprocessing import LabelEncoder\n",
    "from sklearn.model_selection import train_test_split, cross_val_score\n",
    "from sklearn.linear_model import LogisticRegression\n",
    "from sklearn.ensemble import RandomForestClassifier\n",
    "from sklearn.metrics import accuracy_score, classification_report, confusion_matrix\n",
    "\n",
    "\n",
    "# Input data files are available in the read-only \"../input/\" directory\n",
    "# For example, running this (by clicking run or pressing Shift+Enter) will list all files under the input directory\n",
    "\n",
    "import os\n",
    "for dirname, _, filenames in os.walk('/kaggle/input'):\n",
    "    for filename in filenames:\n",
    "        print(os.path.join(dirname, filename))\n",
    "\n",
    "# You can write up to 20GB to the current directory (/kaggle/working/) that gets preserved as output when you create a version using \"Save & Run All\" \n",
    "# You can also write temporary files to /kaggle/temp/, but they won't be saved outside of the current session"
   ]
  },
  {
   "cell_type": "code",
   "execution_count": 2,
   "id": "88d9ed26",
   "metadata": {
    "execution": {
     "iopub.execute_input": "2024-05-15T19:49:26.187509Z",
     "iopub.status.busy": "2024-05-15T19:49:26.186653Z",
     "iopub.status.idle": "2024-05-15T19:49:26.244319Z",
     "shell.execute_reply": "2024-05-15T19:49:26.243234Z"
    },
    "papermill": {
     "duration": 0.071143,
     "end_time": "2024-05-15T19:49:26.246929",
     "exception": false,
     "start_time": "2024-05-15T19:49:26.175786",
     "status": "completed"
    },
    "tags": []
   },
   "outputs": [
    {
     "name": "stdout",
     "output_type": "stream",
     "text": [
      "<class 'pandas.core.frame.DataFrame'>\n",
      "RangeIndex: 891 entries, 0 to 890\n",
      "Data columns (total 12 columns):\n",
      " #   Column       Non-Null Count  Dtype  \n",
      "---  ------       --------------  -----  \n",
      " 0   PassengerId  891 non-null    int64  \n",
      " 1   Survived     891 non-null    int64  \n",
      " 2   Pclass       891 non-null    int64  \n",
      " 3   Name         891 non-null    object \n",
      " 4   Sex          891 non-null    object \n",
      " 5   Age          714 non-null    float64\n",
      " 6   SibSp        891 non-null    int64  \n",
      " 7   Parch        891 non-null    int64  \n",
      " 8   Ticket       891 non-null    object \n",
      " 9   Fare         891 non-null    float64\n",
      " 10  Cabin        204 non-null    object \n",
      " 11  Embarked     889 non-null    object \n",
      "dtypes: float64(2), int64(5), object(5)\n",
      "memory usage: 83.7+ KB\n"
     ]
    }
   ],
   "source": [
    "#Loading Training Data\n",
    "train_data = pd.read_csv(\"/kaggle/input/titanic/train.csv\")\n",
    "train_data.info()"
   ]
  },
  {
   "cell_type": "code",
   "execution_count": 3,
   "id": "4f27f319",
   "metadata": {
    "execution": {
     "iopub.execute_input": "2024-05-15T19:49:26.267199Z",
     "iopub.status.busy": "2024-05-15T19:49:26.266514Z",
     "iopub.status.idle": "2024-05-15T19:49:26.284196Z",
     "shell.execute_reply": "2024-05-15T19:49:26.283115Z"
    },
    "papermill": {
     "duration": 0.031021,
     "end_time": "2024-05-15T19:49:26.286778",
     "exception": false,
     "start_time": "2024-05-15T19:49:26.255757",
     "status": "completed"
    },
    "tags": []
   },
   "outputs": [
    {
     "name": "stdout",
     "output_type": "stream",
     "text": [
      "<class 'pandas.core.frame.DataFrame'>\n",
      "RangeIndex: 418 entries, 0 to 417\n",
      "Data columns (total 11 columns):\n",
      " #   Column       Non-Null Count  Dtype  \n",
      "---  ------       --------------  -----  \n",
      " 0   PassengerId  418 non-null    int64  \n",
      " 1   Pclass       418 non-null    int64  \n",
      " 2   Name         418 non-null    object \n",
      " 3   Sex          418 non-null    object \n",
      " 4   Age          332 non-null    float64\n",
      " 5   SibSp        418 non-null    int64  \n",
      " 6   Parch        418 non-null    int64  \n",
      " 7   Ticket       418 non-null    object \n",
      " 8   Fare         417 non-null    float64\n",
      " 9   Cabin        91 non-null     object \n",
      " 10  Embarked     418 non-null    object \n",
      "dtypes: float64(2), int64(4), object(5)\n",
      "memory usage: 36.0+ KB\n"
     ]
    }
   ],
   "source": [
    "#Loading Test Data\n",
    "test_data = pd.read_csv(\"/kaggle/input/titanic/test.csv\")\n",
    "test_data.info()"
   ]
  },
  {
   "cell_type": "markdown",
   "id": "96aaabb3",
   "metadata": {
    "papermill": {
     "duration": 0.01608,
     "end_time": "2024-05-15T19:49:26.312466",
     "exception": false,
     "start_time": "2024-05-15T19:49:26.296386",
     "status": "completed"
    },
    "tags": []
   },
   "source": [
    "* Computing Basic Statistics For Numerical Data (Mean, Median, Standard Deviation, Minimum, Maximum, and Quartiles)\n",
    "* Frequency Distribution of each category for catagorical data"
   ]
  },
  {
   "cell_type": "code",
   "execution_count": 4,
   "id": "260e78b9",
   "metadata": {
    "execution": {
     "iopub.execute_input": "2024-05-15T19:49:26.332036Z",
     "iopub.status.busy": "2024-05-15T19:49:26.331371Z",
     "iopub.status.idle": "2024-05-15T19:49:26.360982Z",
     "shell.execute_reply": "2024-05-15T19:49:26.359877Z"
    },
    "papermill": {
     "duration": 0.042307,
     "end_time": "2024-05-15T19:49:26.363430",
     "exception": false,
     "start_time": "2024-05-15T19:49:26.321123",
     "status": "completed"
    },
    "tags": []
   },
   "outputs": [
    {
     "name": "stdout",
     "output_type": "stream",
     "text": [
      "       PassengerId    Survived      Pclass         Age       SibSp  \\\n",
      "count   891.000000  891.000000  891.000000  714.000000  891.000000   \n",
      "mean    446.000000    0.383838    2.308642   29.699118    0.523008   \n",
      "std     257.353842    0.486592    0.836071   14.526497    1.102743   \n",
      "min       1.000000    0.000000    1.000000    0.420000    0.000000   \n",
      "25%     223.500000    0.000000    2.000000   20.125000    0.000000   \n",
      "50%     446.000000    0.000000    3.000000   28.000000    0.000000   \n",
      "75%     668.500000    1.000000    3.000000   38.000000    1.000000   \n",
      "max     891.000000    1.000000    3.000000   80.000000    8.000000   \n",
      "\n",
      "            Parch        Fare  \n",
      "count  891.000000  891.000000  \n",
      "mean     0.381594   32.204208  \n",
      "std      0.806057   49.693429  \n",
      "min      0.000000    0.000000  \n",
      "25%      0.000000    7.910400  \n",
      "50%      0.000000   14.454200  \n",
      "75%      0.000000   31.000000  \n",
      "max      6.000000  512.329200  \n"
     ]
    }
   ],
   "source": [
    "#Numerical Data\n",
    "stats = train_data.describe()\n",
    "print(stats)"
   ]
  },
  {
   "cell_type": "code",
   "execution_count": 5,
   "id": "79bf2b67",
   "metadata": {
    "execution": {
     "iopub.execute_input": "2024-05-15T19:49:26.383484Z",
     "iopub.status.busy": "2024-05-15T19:49:26.382798Z",
     "iopub.status.idle": "2024-05-15T19:49:26.390922Z",
     "shell.execute_reply": "2024-05-15T19:49:26.389618Z"
    },
    "papermill": {
     "duration": 0.020943,
     "end_time": "2024-05-15T19:49:26.393270",
     "exception": false,
     "start_time": "2024-05-15T19:49:26.372327",
     "status": "completed"
    },
    "tags": []
   },
   "outputs": [
    {
     "name": "stdout",
     "output_type": "stream",
     "text": [
      "Sex\n",
      "male      577\n",
      "female    314\n",
      "Name: count, dtype: int64\n",
      "Embarked\n",
      "S    644\n",
      "C    168\n",
      "Q     77\n",
      "Name: count, dtype: int64\n"
     ]
    }
   ],
   "source": [
    "#Catagorical Data, We didn't include Name and Cabin as they're of little to no use to us in the data summarization phase.\n",
    "\n",
    "print(train_data['Sex'].value_counts())\n",
    "print(train_data['Embarked'].value_counts())"
   ]
  },
  {
   "cell_type": "markdown",
   "id": "1f6559cf",
   "metadata": {
    "papermill": {
     "duration": 0.00873,
     "end_time": "2024-05-15T19:49:26.410990",
     "exception": false,
     "start_time": "2024-05-15T19:49:26.402260",
     "status": "completed"
    },
    "tags": []
   },
   "source": [
    "Task 2: Analyze the percentage of missing values in each feature and decide on an appropriate strategy for imputation"
   ]
  },
  {
   "cell_type": "code",
   "execution_count": 6,
   "id": "8063b6eb",
   "metadata": {
    "execution": {
     "iopub.execute_input": "2024-05-15T19:49:26.431539Z",
     "iopub.status.busy": "2024-05-15T19:49:26.431104Z",
     "iopub.status.idle": "2024-05-15T19:49:26.438815Z",
     "shell.execute_reply": "2024-05-15T19:49:26.437671Z"
    },
    "papermill": {
     "duration": 0.021323,
     "end_time": "2024-05-15T19:49:26.441370",
     "exception": false,
     "start_time": "2024-05-15T19:49:26.420047",
     "status": "completed"
    },
    "tags": []
   },
   "outputs": [
    {
     "name": "stdout",
     "output_type": "stream",
     "text": [
      "PassengerId      0\n",
      "Survived         0\n",
      "Pclass           0\n",
      "Name             0\n",
      "Sex              0\n",
      "Age            177\n",
      "SibSp            0\n",
      "Parch            0\n",
      "Ticket           0\n",
      "Fare             0\n",
      "Cabin          687\n",
      "Embarked         2\n",
      "dtype: int64\n"
     ]
    }
   ],
   "source": [
    "#First we check for missing values in each column\n",
    "print(train_data.isnull().sum())"
   ]
  },
  {
   "cell_type": "code",
   "execution_count": 7,
   "id": "e2b96264",
   "metadata": {
    "execution": {
     "iopub.execute_input": "2024-05-15T19:49:26.461734Z",
     "iopub.status.busy": "2024-05-15T19:49:26.461259Z",
     "iopub.status.idle": "2024-05-15T19:49:26.478762Z",
     "shell.execute_reply": "2024-05-15T19:49:26.477647Z"
    },
    "papermill": {
     "duration": 0.030716,
     "end_time": "2024-05-15T19:49:26.481309",
     "exception": false,
     "start_time": "2024-05-15T19:49:26.450593",
     "status": "completed"
    },
    "tags": []
   },
   "outputs": [],
   "source": [
    "#We drop the rows where embarked is null since they're only 2 rows out of 891.\n",
    "train_data.dropna(subset=['Embarked'], inplace= True)\n",
    "#We apply the same changes to the test data\n",
    "test_data.dropna(subset=['Embarked'], inplace=True)\n",
    "#We drop the Cabin column, 687/791 missing values.\n",
    "train_data.drop(columns =['Cabin'], inplace = True)\n",
    "#We apply the same changes to the test data\n",
    "\n",
    "test_data.drop(columns =['Cabin'], inplace = True)\n",
    "\n",
    "#We use the Median because we have outliers \n",
    "train_data['Age'] = train_data['Age'].fillna(train_data['Age'].median())\n",
    "test_data['Age'] = test_data['Age'].fillna(test_data['Age'].median())\n"
   ]
  },
  {
   "cell_type": "code",
   "execution_count": 8,
   "id": "72e2ed65",
   "metadata": {
    "execution": {
     "iopub.execute_input": "2024-05-15T19:49:26.502892Z",
     "iopub.status.busy": "2024-05-15T19:49:26.502435Z",
     "iopub.status.idle": "2024-05-15T19:49:26.509698Z",
     "shell.execute_reply": "2024-05-15T19:49:26.508849Z"
    },
    "papermill": {
     "duration": 0.020369,
     "end_time": "2024-05-15T19:49:26.512046",
     "exception": false,
     "start_time": "2024-05-15T19:49:26.491677",
     "status": "completed"
    },
    "tags": []
   },
   "outputs": [
    {
     "name": "stdout",
     "output_type": "stream",
     "text": [
      "PassengerId    0\n",
      "Survived       0\n",
      "Pclass         0\n",
      "Name           0\n",
      "Sex            0\n",
      "Age            0\n",
      "SibSp          0\n",
      "Parch          0\n",
      "Ticket         0\n",
      "Fare           0\n",
      "Embarked       0\n",
      "dtype: int64\n"
     ]
    }
   ],
   "source": [
    "#Check after imputing missing values\n",
    "print(train_data.isnull().sum())"
   ]
  },
  {
   "cell_type": "code",
   "execution_count": 9,
   "id": "43ad8d37",
   "metadata": {
    "execution": {
     "iopub.execute_input": "2024-05-15T19:49:26.532788Z",
     "iopub.status.busy": "2024-05-15T19:49:26.532349Z",
     "iopub.status.idle": "2024-05-15T19:49:26.545744Z",
     "shell.execute_reply": "2024-05-15T19:49:26.544865Z"
    },
    "papermill": {
     "duration": 0.026528,
     "end_time": "2024-05-15T19:49:26.547989",
     "exception": false,
     "start_time": "2024-05-15T19:49:26.521461",
     "status": "completed"
    },
    "tags": []
   },
   "outputs": [],
   "source": [
    "# we turn the catagorical features into numerical data to be easier to deal with\n",
    "encoder = LabelEncoder()\n",
    "\n",
    "num_data = train_data.copy()\n",
    "num_data_test = test_data.copy()\n",
    "\n",
    "encoder.fit(num_data['Sex'])\n",
    "num_data['Sex_encoded'] = encoder.transform(num_data['Sex'])\n",
    "\n",
    "encoder.fit(num_data_test['Sex'])\n",
    "num_data_test['Sex_encoded'] = encoder.transform(num_data_test['Sex'])\n",
    "\n",
    "\n",
    "encoder.fit(num_data['Embarked'])\n",
    "num_data['Emb_encoded'] = encoder.transform(num_data['Embarked'])\n",
    "\n",
    "encoder.fit(num_data_test['Embarked'])\n",
    "num_data_test['Emb_encoded'] = encoder.transform(num_data_test['Embarked'])"
   ]
  },
  {
   "cell_type": "code",
   "execution_count": 10,
   "id": "da46971c",
   "metadata": {
    "execution": {
     "iopub.execute_input": "2024-05-15T19:49:26.568681Z",
     "iopub.status.busy": "2024-05-15T19:49:26.567864Z",
     "iopub.status.idle": "2024-05-15T19:49:26.588478Z",
     "shell.execute_reply": "2024-05-15T19:49:26.587432Z"
    },
    "papermill": {
     "duration": 0.033512,
     "end_time": "2024-05-15T19:49:26.590934",
     "exception": false,
     "start_time": "2024-05-15T19:49:26.557422",
     "status": "completed"
    },
    "tags": []
   },
   "outputs": [
    {
     "data": {
      "text/html": [
       "<div>\n",
       "<style scoped>\n",
       "    .dataframe tbody tr th:only-of-type {\n",
       "        vertical-align: middle;\n",
       "    }\n",
       "\n",
       "    .dataframe tbody tr th {\n",
       "        vertical-align: top;\n",
       "    }\n",
       "\n",
       "    .dataframe thead th {\n",
       "        text-align: right;\n",
       "    }\n",
       "</style>\n",
       "<table border=\"1\" class=\"dataframe\">\n",
       "  <thead>\n",
       "    <tr style=\"text-align: right;\">\n",
       "      <th></th>\n",
       "      <th>PassengerId</th>\n",
       "      <th>Pclass</th>\n",
       "      <th>Age</th>\n",
       "      <th>SibSp</th>\n",
       "      <th>Parch</th>\n",
       "      <th>Fare</th>\n",
       "      <th>Sex_encoded</th>\n",
       "      <th>Emb_encoded</th>\n",
       "    </tr>\n",
       "  </thead>\n",
       "  <tbody>\n",
       "    <tr>\n",
       "      <th>0</th>\n",
       "      <td>892</td>\n",
       "      <td>3</td>\n",
       "      <td>34.5</td>\n",
       "      <td>0</td>\n",
       "      <td>0</td>\n",
       "      <td>7.8292</td>\n",
       "      <td>1</td>\n",
       "      <td>1</td>\n",
       "    </tr>\n",
       "    <tr>\n",
       "      <th>1</th>\n",
       "      <td>893</td>\n",
       "      <td>3</td>\n",
       "      <td>47.0</td>\n",
       "      <td>1</td>\n",
       "      <td>0</td>\n",
       "      <td>7.0000</td>\n",
       "      <td>0</td>\n",
       "      <td>2</td>\n",
       "    </tr>\n",
       "    <tr>\n",
       "      <th>2</th>\n",
       "      <td>894</td>\n",
       "      <td>2</td>\n",
       "      <td>62.0</td>\n",
       "      <td>0</td>\n",
       "      <td>0</td>\n",
       "      <td>9.6875</td>\n",
       "      <td>1</td>\n",
       "      <td>1</td>\n",
       "    </tr>\n",
       "    <tr>\n",
       "      <th>3</th>\n",
       "      <td>895</td>\n",
       "      <td>3</td>\n",
       "      <td>27.0</td>\n",
       "      <td>0</td>\n",
       "      <td>0</td>\n",
       "      <td>8.6625</td>\n",
       "      <td>1</td>\n",
       "      <td>2</td>\n",
       "    </tr>\n",
       "    <tr>\n",
       "      <th>4</th>\n",
       "      <td>896</td>\n",
       "      <td>3</td>\n",
       "      <td>22.0</td>\n",
       "      <td>1</td>\n",
       "      <td>1</td>\n",
       "      <td>12.2875</td>\n",
       "      <td>0</td>\n",
       "      <td>2</td>\n",
       "    </tr>\n",
       "  </tbody>\n",
       "</table>\n",
       "</div>"
      ],
      "text/plain": [
       "   PassengerId  Pclass   Age  SibSp  Parch     Fare  Sex_encoded  Emb_encoded\n",
       "0          892       3  34.5      0      0   7.8292            1            1\n",
       "1          893       3  47.0      1      0   7.0000            0            2\n",
       "2          894       2  62.0      0      0   9.6875            1            1\n",
       "3          895       3  27.0      0      0   8.6625            1            2\n",
       "4          896       3  22.0      1      1  12.2875            0            2"
      ]
     },
     "execution_count": 10,
     "metadata": {},
     "output_type": "execute_result"
    }
   ],
   "source": [
    "#we create a new dataframe with only the data that could affect the survival rate\n",
    "num_data = num_data.drop(columns =['Name','Sex','Ticket','Embarked'])\n",
    "\n",
    "num_data.head()\n",
    "\n",
    "num_data_test = num_data_test.drop(columns =['Name','Sex','Ticket','Embarked'])\n",
    "\n",
    "num_data_test.head()"
   ]
  },
  {
   "cell_type": "code",
   "execution_count": 11,
   "id": "f9b1639b",
   "metadata": {
    "execution": {
     "iopub.execute_input": "2024-05-15T19:49:26.611385Z",
     "iopub.status.busy": "2024-05-15T19:49:26.611011Z",
     "iopub.status.idle": "2024-05-15T19:49:28.031997Z",
     "shell.execute_reply": "2024-05-15T19:49:28.030919Z"
    },
    "papermill": {
     "duration": 1.433942,
     "end_time": "2024-05-15T19:49:28.034267",
     "exception": false,
     "start_time": "2024-05-15T19:49:26.600325",
     "status": "completed"
    },
    "tags": []
   },
   "outputs": [
    {
     "name": "stdout",
     "output_type": "stream",
     "text": [
      "\n",
      "Outliers:\n"
     ]
    },
    {
     "data": {
      "image/png": "[encoded data removed]",
      "text/plain": [
       "<Figure size 1500x1500 with 16 Axes>"
      ]
     },
     "metadata": {},
     "output_type": "display_data"
    }
   ],
   "source": [
    "#4 Outliers Detection:\n",
    "print(\"\\nOutliers:\")\n",
    "num_data.plot(kind='box', subplots=True, layout=(4, 4), figsize=(15, 15))\n",
    "plt.show()"
   ]
  },
  {
   "cell_type": "code",
   "execution_count": 12,
   "id": "a6fe1e31",
   "metadata": {
    "execution": {
     "iopub.execute_input": "2024-05-15T19:49:28.060453Z",
     "iopub.status.busy": "2024-05-15T19:49:28.059381Z",
     "iopub.status.idle": "2024-05-15T19:49:30.105491Z",
     "shell.execute_reply": "2024-05-15T19:49:30.104640Z"
    },
    "papermill": {
     "duration": 2.061385,
     "end_time": "2024-05-15T19:49:30.108889",
     "exception": false,
     "start_time": "2024-05-15T19:49:28.047504",
     "status": "completed"
    },
    "tags": []
   },
   "outputs": [
    {
     "data": {
      "image/png": "[encoded data removed]",
      "text/plain": [
       "<Figure size 1500x1500 with 9 Axes>"
      ]
     },
     "metadata": {},
     "output_type": "display_data"
    }
   ],
   "source": [
    "#5 Data Visualization:\n",
    "num_data.hist(figsize=(15, 15))\n",
    "plt.show()"
   ]
  },
  {
   "cell_type": "code",
   "execution_count": 13,
   "id": "ad078655",
   "metadata": {
    "execution": {
     "iopub.execute_input": "2024-05-15T19:49:30.135150Z",
     "iopub.status.busy": "2024-05-15T19:49:30.134218Z",
     "iopub.status.idle": "2024-05-15T19:49:30.143398Z",
     "shell.execute_reply": "2024-05-15T19:49:30.141902Z"
    },
    "papermill": {
     "duration": 0.025013,
     "end_time": "2024-05-15T19:49:30.145849",
     "exception": false,
     "start_time": "2024-05-15T19:49:30.120836",
     "status": "completed"
    },
    "tags": []
   },
   "outputs": [
    {
     "name": "stdout",
     "output_type": "stream",
     "text": [
      "PassengerId    0.000000\n",
      "Survived       0.484568\n",
      "Pclass        -0.636998\n",
      "Age            0.508010\n",
      "SibSp          3.691058\n",
      "Parch          2.745160\n",
      "Fare           4.801440\n",
      "Sex_encoded   -0.625625\n",
      "Emb_encoded   -1.261367\n",
      "dtype: float64\n"
     ]
    }
   ],
   "source": [
    "#6 Feature Distribution:\n",
    "skewness = num_data.skew()\n",
    "print(skewness)"
   ]
  },
  {
   "cell_type": "markdown",
   "id": "b4b45d0c",
   "metadata": {
    "papermill": {
     "duration": 0.012027,
     "end_time": "2024-05-15T19:49:30.170367",
     "exception": false,
     "start_time": "2024-05-15T19:49:30.158340",
     "status": "completed"
    },
    "tags": []
   },
   "source": [
    "No need to transformation / normalization"
   ]
  },
  {
   "cell_type": "code",
   "execution_count": 14,
   "id": "8c23e580",
   "metadata": {
    "execution": {
     "iopub.execute_input": "2024-05-15T19:49:30.196769Z",
     "iopub.status.busy": "2024-05-15T19:49:30.196346Z",
     "iopub.status.idle": "2024-05-15T19:49:30.209261Z",
     "shell.execute_reply": "2024-05-15T19:49:30.208448Z"
    },
    "papermill": {
     "duration": 0.030284,
     "end_time": "2024-05-15T19:49:30.213026",
     "exception": false,
     "start_time": "2024-05-15T19:49:30.182742",
     "status": "completed"
    },
    "tags": []
   },
   "outputs": [
    {
     "name": "stdout",
     "output_type": "stream",
     "text": [
      "             PassengerId  Survived    Pclass       Age     SibSp     Parch  \\\n",
      "PassengerId     1.000000 -0.005028 -0.035330  0.031319 -0.057686 -0.001657   \n",
      "Survived       -0.005028  1.000000 -0.335549 -0.069822 -0.034040  0.083151   \n",
      "Pclass         -0.035330 -0.335549  1.000000 -0.336512  0.081656  0.016824   \n",
      "Age             0.031319 -0.069822 -0.336512  1.000000 -0.232543 -0.171485   \n",
      "SibSp          -0.057686 -0.034040  0.081656 -0.232543  1.000000  0.414542   \n",
      "Parch          -0.001657  0.083151  0.016824 -0.171485  0.414542  1.000000   \n",
      "Fare            0.012703  0.255290 -0.548193  0.093707  0.160887  0.217532   \n",
      "Sex_encoded     0.043136 -0.541585  0.127741  0.086506 -0.116348 -0.247508   \n",
      "Emb_encoded     0.013166 -0.169718  0.164681 -0.020933  0.068900  0.040449   \n",
      "\n",
      "                 Fare  Sex_encoded  Emb_encoded  \n",
      "PassengerId  0.012703     0.043136     0.013166  \n",
      "Survived     0.255290    -0.541585    -0.169718  \n",
      "Pclass      -0.548193     0.127741     0.164681  \n",
      "Age          0.093707     0.086506    -0.020933  \n",
      "SibSp        0.160887    -0.116348     0.068900  \n",
      "Parch        0.217532    -0.247508     0.040449  \n",
      "Fare         1.000000    -0.179958    -0.226311  \n",
      "Sex_encoded -0.179958     1.000000     0.110320  \n",
      "Emb_encoded -0.226311     0.110320     1.000000  \n"
     ]
    }
   ],
   "source": [
    "#7 Feature Correlation:\n",
    "correlation = num_data.corr()\n",
    "print(correlation)"
   ]
  },
  {
   "cell_type": "code",
   "execution_count": 15,
   "id": "054c92de",
   "metadata": {
    "execution": {
     "iopub.execute_input": "2024-05-15T19:49:30.240191Z",
     "iopub.status.busy": "2024-05-15T19:49:30.239740Z",
     "iopub.status.idle": "2024-05-15T19:49:30.254211Z",
     "shell.execute_reply": "2024-05-15T19:49:30.253261Z"
    },
    "papermill": {
     "duration": 0.030797,
     "end_time": "2024-05-15T19:49:30.256408",
     "exception": false,
     "start_time": "2024-05-15T19:49:30.225611",
     "status": "completed"
    },
    "tags": []
   },
   "outputs": [],
   "source": [
    "#8 Feature Engineering:\n",
    "new_column = 'class_Fare'\n",
    "\n",
    "train_data[new_column] = train_data['Pclass'].astype(str) + '_' + train_data['Fare'].astype(str)\n",
    "train_data = train_data.drop(columns =['Pclass','Fare'])\n",
    "#apply the same to test\n",
    "test_data[new_column] = test_data['Pclass'].astype(str) + '_' + test_data['Fare'].astype(str)\n",
    "test_data = test_data.drop(columns =['Pclass','Fare'])"
   ]
  },
  {
   "cell_type": "code",
   "execution_count": 16,
   "id": "a2fdee39",
   "metadata": {
    "execution": {
     "iopub.execute_input": "2024-05-15T19:49:30.284071Z",
     "iopub.status.busy": "2024-05-15T19:49:30.283457Z",
     "iopub.status.idle": "2024-05-15T19:49:30.296541Z",
     "shell.execute_reply": "2024-05-15T19:49:30.294232Z"
    },
    "papermill": {
     "duration": 0.031435,
     "end_time": "2024-05-15T19:49:30.300639",
     "exception": false,
     "start_time": "2024-05-15T19:49:30.269204",
     "status": "completed"
    },
    "tags": []
   },
   "outputs": [],
   "source": [
    "# 9 Data Separation and Model Selection:\n",
    "# Splitting the training data into training and validation sets\n",
    "X = num_data.drop(columns=['Survived'])\n",
    "y = num_data['Survived']\n",
    "X_train, X_val, y_train, y_val = train_test_split(X, y, test_size=0.2, random_state=42)"
   ]
  },
  {
   "cell_type": "code",
   "execution_count": 17,
   "id": "759be002",
   "metadata": {
    "execution": {
     "iopub.execute_input": "2024-05-15T19:49:30.335547Z",
     "iopub.status.busy": "2024-05-15T19:49:30.334250Z",
     "iopub.status.idle": "2024-05-15T19:49:30.398880Z",
     "shell.execute_reply": "2024-05-15T19:49:30.397444Z"
    },
    "papermill": {
     "duration": 0.083034,
     "end_time": "2024-05-15T19:49:30.401267",
     "exception": false,
     "start_time": "2024-05-15T19:49:30.318233",
     "status": "completed"
    },
    "tags": []
   },
   "outputs": [
    {
     "name": "stdout",
     "output_type": "stream",
     "text": [
      "\n",
      "Train set accuracy: 0.7974683544303798\n",
      "Accuracy: 0.7752808988764045\n"
     ]
    }
   ],
   "source": [
    "#Model #1, Logistic Regression\n",
    "model = LogisticRegression(max_iter=200) #tried 100, showed me an error asking to increase it since the data isn't scaled.\n",
    "model.fit(X_train, y_train)\n",
    "y_pred = model.predict(X_val)\n",
    "accuracy = accuracy_score(y_val, y_pred)\n",
    "train_accuracy = accuracy_score(y_train, model.predict(X_train))\n",
    "\n",
    "print(\"\\nTrain set accuracy:\", train_accuracy)\n",
    "print(f\"Accuracy: {accuracy}\")"
   ]
  },
  {
   "cell_type": "code",
   "execution_count": 18,
   "id": "3953a38c",
   "metadata": {
    "execution": {
     "iopub.execute_input": "2024-05-15T19:49:30.428741Z",
     "iopub.status.busy": "2024-05-15T19:49:30.427853Z",
     "iopub.status.idle": "2024-05-15T19:49:30.449312Z",
     "shell.execute_reply": "2024-05-15T19:49:30.448276Z"
    },
    "papermill": {
     "duration": 0.037702,
     "end_time": "2024-05-15T19:49:30.451671",
     "exception": false,
     "start_time": "2024-05-15T19:49:30.413969",
     "status": "completed"
    },
    "tags": []
   },
   "outputs": [
    {
     "name": "stdout",
     "output_type": "stream",
     "text": [
      "\n",
      "Train set accuracy: 0.8227848101265823\n",
      "Accuracy: 0.8202247191011236\n"
     ]
    }
   ],
   "source": [
    "#Model #2, Decision Tree\n",
    "from sklearn.tree import DecisionTreeClassifier\n",
    "model = DecisionTreeClassifier(criterion=\"entropy\", random_state = 100, max_depth = 3)\n",
    "model.fit(X_train, y_train)\n",
    "y_pred = model.predict(X_val)\n",
    "accuracy = accuracy_score(y_val, y_pred)\n",
    "train_accuracy = accuracy_score(y_train, model.predict(X_train))\n",
    "\n",
    "print(\"\\nTrain set accuracy:\", train_accuracy)\n",
    "print(f\"Accuracy: {accuracy}\")"
   ]
  },
  {
   "cell_type": "code",
   "execution_count": 19,
   "id": "d7902620",
   "metadata": {
    "execution": {
     "iopub.execute_input": "2024-05-15T19:49:30.479148Z",
     "iopub.status.busy": "2024-05-15T19:49:30.478716Z",
     "iopub.status.idle": "2024-05-15T19:49:30.555863Z",
     "shell.execute_reply": "2024-05-15T19:49:30.554613Z"
    },
    "papermill": {
     "duration": 0.093976,
     "end_time": "2024-05-15T19:49:30.558445",
     "exception": false,
     "start_time": "2024-05-15T19:49:30.464469",
     "status": "completed"
    },
    "tags": []
   },
   "outputs": [
    {
     "name": "stdout",
     "output_type": "stream",
     "text": [
      "\n",
      "Train set accuracy: 0.6891701828410689\n",
      "Accuracy: 0.6685393258426966\n"
     ]
    }
   ],
   "source": [
    "#Model #3, KNN\n",
    "from sklearn.neighbors import KNeighborsClassifier\n",
    "\n",
    "model = KNeighborsClassifier(n_neighbors = 15) \n",
    "model.fit(X_train, y_train)\n",
    "y_pred = model.predict(X_val)\n",
    "accuracy = accuracy_score(y_val, y_pred)\n",
    "train_accuracy = accuracy_score(y_train, model.predict(X_train))\n",
    "\n",
    "print(\"\\nTrain set accuracy:\", train_accuracy)\n",
    "print(f\"Accuracy: {accuracy}\")"
   ]
  },
  {
   "cell_type": "markdown",
   "id": "654346a0",
   "metadata": {
    "papermill": {
     "duration": 0.012354,
     "end_time": "2024-05-15T19:49:30.583652",
     "exception": false,
     "start_time": "2024-05-15T19:49:30.571298",
     "status": "completed"
    },
    "tags": []
   },
   "source": [
    "As we can see from the tests above, Decision tree had the highest accuracy"
   ]
  },
  {
   "cell_type": "code",
   "execution_count": 20,
   "id": "897a3cd8",
   "metadata": {
    "execution": {
     "iopub.execute_input": "2024-05-15T19:49:30.611554Z",
     "iopub.status.busy": "2024-05-15T19:49:30.611126Z",
     "iopub.status.idle": "2024-05-15T19:49:30.622661Z",
     "shell.execute_reply": "2024-05-15T19:49:30.621322Z"
    },
    "papermill": {
     "duration": 0.027904,
     "end_time": "2024-05-15T19:49:30.625003",
     "exception": false,
     "start_time": "2024-05-15T19:49:30.597099",
     "status": "completed"
    },
    "tags": []
   },
   "outputs": [
    {
     "name": "stdout",
     "output_type": "stream",
     "text": [
      "PassengerId    0\n",
      "Pclass         0\n",
      "Age            0\n",
      "SibSp          0\n",
      "Parch          0\n",
      "Fare           1\n",
      "Sex_encoded    0\n",
      "Emb_encoded    0\n",
      "dtype: int64\n",
      "PassengerId    0\n",
      "Pclass         0\n",
      "Age            0\n",
      "SibSp          0\n",
      "Parch          0\n",
      "Fare           0\n",
      "Sex_encoded    0\n",
      "Emb_encoded    0\n",
      "dtype: int64\n"
     ]
    }
   ],
   "source": [
    "#Had an issue here where 1 value in fare was null so I had to drop it\n",
    "print(num_data_test.isnull().sum())\n",
    "num_data_test.dropna(subset=['Fare'], inplace=True)\n",
    "print(num_data_test.isnull().sum())"
   ]
  },
  {
   "cell_type": "code",
   "execution_count": 21,
   "id": "63f97f66",
   "metadata": {
    "execution": {
     "iopub.execute_input": "2024-05-15T19:49:30.655480Z",
     "iopub.status.busy": "2024-05-15T19:49:30.655076Z",
     "iopub.status.idle": "2024-05-15T19:49:30.672484Z",
     "shell.execute_reply": "2024-05-15T19:49:30.671225Z"
    },
    "papermill": {
     "duration": 0.03608,
     "end_time": "2024-05-15T19:49:30.674750",
     "exception": false,
     "start_time": "2024-05-15T19:49:30.638670",
     "status": "completed"
    },
    "tags": []
   },
   "outputs": [
    {
     "name": "stdout",
     "output_type": "stream",
     "text": [
      "<bound method NDFrame.head of      PassengerId  Survived\n",
      "0            892         0\n",
      "1            893         1\n",
      "2            894         0\n",
      "3            895         0\n",
      "4            896         1\n",
      "..           ...       ...\n",
      "413         1305         0\n",
      "414         1306         1\n",
      "415         1307         0\n",
      "416         1308         0\n",
      "417         1309         0\n",
      "\n",
      "[417 rows x 2 columns]>\n"
     ]
    }
   ],
   "source": [
    "model = DecisionTreeClassifier(criterion=\"entropy\", random_state = 100, max_depth = 3)\n",
    "model.fit(X, y)\n",
    "test_predictions = model.predict(num_data_test)\n",
    "output = pd.DataFrame({'PassengerId': num_data_test['PassengerId'], 'Survived': test_predictions})\n",
    "print(output.head) "
   ]
  },
  {
   "cell_type": "code",
   "execution_count": null,
   "id": "fd595bc9",
   "metadata": {
    "papermill": {
     "duration": 0.012499,
     "end_time": "2024-05-15T19:49:30.700260",
     "exception": false,
     "start_time": "2024-05-15T19:49:30.687761",
     "status": "completed"
    },
    "tags": []
   },
   "outputs": [],
   "source": []
  }
 ],
 "metadata": {
  "kaggle": {
   "accelerator": "none",
   "dataSources": [
    {
     "databundleVersionId": 26502,
     "sourceId": 3136,
     "sourceType": "competition"
    }
   ],
   "dockerImageVersionId": 30698,
   "isGpuEnabled": false,
   "isInternetEnabled": false,
   "language": "python",
   "sourceType": "notebook"
  },
  "kernelspec": {
   "display_name": "Python 3",
   "language": "python",
   "name": "python3"
  },
  "language_info": {
   "codemirror_mode": {
    "name": "ipython",
    "version": 3
   },
   "file_extension": ".py",
   "mimetype": "text/x-python",
   "name": "python",
   "nbconvert_exporter": "python",
   "pygments_lexer": "ipython3",
   "version": "3.10.13"
  },
  "papermill": {
   "default_parameters": {},
   "duration": 10.883065,
   "end_time": "2024-05-15T19:49:31.334735",
   "environment_variables": {},
   "exception": null,
   "input_path": "__notebook__.ipynb",
   "output_path": "__notebook__.ipynb",
   "parameters": {},
   "start_time": "2024-05-15T19:49:20.451670",
   "version": "2.5.0"
  }
 },
 "nbformat": 4,
 "nbformat_minor": 5
}
